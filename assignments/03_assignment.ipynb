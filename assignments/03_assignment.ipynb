{
 "cells": [
  {
   "cell_type": "markdown",
   "metadata": {
    "pycharm": {
     "name": "#%% md\n"
    }
   },
   "source": [
    "# Image Processing SoSe 22 - Assignment - 03\n",
    "\n",
    "### Deadline is 12.05.2022 at 11:55am\n",
    "\n",
    "Please solve the assignments together with a partner.\n",
    "I will run every notebook. Make sure the code runs through. Select `Kernel` -> `Restart & Run All` to test it."
   ]
  },
  {
   "cell_type": "code",
   "execution_count": null,
   "metadata": {
    "pycharm": {
     "name": "#%%\n"
    }
   },
   "outputs": [],
   "source": [
    "# display the plots inside the notebook\n",
    "%matplotlib inline"
   ]
  },
  {
   "cell_type": "code",
   "execution_count": null,
   "metadata": {
    "pycharm": {
     "name": "#%%\n"
    }
   },
   "outputs": [],
   "source": [
    "import numpy as np\n",
    "import matplotlib.pyplot as plt\n",
    "import pylab\n",
    "import ssl\n",
    "from urllib.request import urlopen\n",
    "from skimage.data import astronaut, brick\n",
    "from skimage.color import rgb2gray, rgb2hsv, hsv2rgb\n",
    "\n",
    "pylab.rcParams['figure.figsize'] = (12, 12)   # This makes the plot bigger"
   ]
  },
  {
   "cell_type": "markdown",
   "source": [
    "# Exercise 1 - Bicubic interpolation - 10 Points\n",
    "\n",
    "Implement affine transformation with [bicubic interpolation](https://en.wikipedia.org/wiki/Bicubic_interpolation).\n",
    "Implement the functions `affine_transformation` and `bicubic_interpolation`. Apply some affine transformation of your choice and smooth the output using your bicubic interpolation."
   ],
   "metadata": {
    "collapsed": false,
    "pycharm": {
     "name": "#%% md\n"
    }
   }
  },
  {
   "cell_type": "code",
   "execution_count": null,
   "outputs": [],
   "source": [
    "# We use a gray image. All the algorithms should work with color images too.\n",
    "img = brick() / 255.\n",
    "plt.imshow(img, cmap='gray')\n",
    "plt.show()"
   ],
   "metadata": {
    "collapsed": false,
    "pycharm": {
     "name": "#%%\n"
    }
   }
  },
  {
   "cell_type": "code",
   "execution_count": null,
   "outputs": [],
   "source": [
    "def derive_y(image):\n",
    "    \"\"\"Computes the derivative of the image w.r.t the y coordinate\"\"\"\n",
    "    return np.gradient(image, axis=0)\n",
    "\n",
    "\n",
    "def derive_x(image):\n",
    "    \"\"\"Computes the derivative of the image w.r.t the x coordinate\"\"\"\n",
    "    return np.gradient(image, axis=1)"
   ],
   "metadata": {
    "collapsed": false,
    "pycharm": {
     "name": "#%%\n"
    }
   }
  },
  {
   "cell_type": "code",
   "execution_count": null,
   "outputs": [],
   "source": [
    "dx_img = derive_x(img)\n",
    "dy_img = derive_y(img)"
   ],
   "metadata": {
    "collapsed": false,
    "pycharm": {
     "name": "#%%\n"
    }
   }
  },
  {
   "cell_type": "code",
   "execution_count": null,
   "outputs": [],
   "source": [
    "plt.figure(figsize=(18, 12))\n",
    "plt.subplot(131)\n",
    "plt.imshow(img, cmap='gray')\n",
    "plt.subplot(132)\n",
    "plt.imshow(dx_img, cmap='gray')\n",
    "plt.subplot(133)\n",
    "plt.imshow(dy_img, cmap='gray')\n",
    "plt.show()"
   ],
   "metadata": {
    "collapsed": false,
    "pycharm": {
     "name": "#%%\n"
    }
   }
  },
  {
   "cell_type": "markdown",
   "source": [
    "Here are some sample affine transformations to be used later on"
   ],
   "metadata": {
    "collapsed": false,
    "pycharm": {
     "name": "#%% md\n"
    }
   }
  },
  {
   "cell_type": "code",
   "execution_count": null,
   "outputs": [],
   "source": [
    "T_scale = np.array([\n",
    "    [0.75, 0, 0],\n",
    "    [0, 0.75, 0],\n",
    "    [0, 0, 1],\n",
    "])\n",
    "T_affine = np.array([\n",
    "    [1, 0.3, 0],\n",
    "    [0, 1, 0],\n",
    "    [0, 0, 1],\n",
    "])\n",
    "\n",
    "# you can use this function to invert the matrices\n",
    "np.linalg.inv(T_scale)"
   ],
   "metadata": {
    "collapsed": false,
    "pycharm": {
     "name": "#%%\n"
    }
   }
  },
  {
   "cell_type": "code",
   "execution_count": null,
   "outputs": [],
   "source": [
    "def affine_transformation(img, matrix):\n",
    "    # your code here\n",
    "    # apply bicubic interpolation\n",
    "    return img\n",
    "\n",
    "\n",
    "def bicubic_interpolation(img, indices):\n",
    "    dx_img = derive_x(img)\n",
    "    dy_img = derive_y(img)\n",
    "    dxy_img = derive_x(dy_img)\n",
    "    # your code here\n",
    "\n",
    "    return img"
   ],
   "metadata": {
    "collapsed": false,
    "pycharm": {
     "name": "#%%\n"
    }
   }
  },
  {
   "cell_type": "code",
   "execution_count": null,
   "outputs": [],
   "source": [
    "img_scale = affine_transformation(img, T_scale)\n",
    "img_affine = affine_transformation(img, T_affine)"
   ],
   "metadata": {
    "collapsed": false,
    "pycharm": {
     "name": "#%%\n"
    }
   }
  },
  {
   "cell_type": "code",
   "execution_count": null,
   "outputs": [],
   "source": [
    "plt.imshow(img_scale, cmap='gray')\n",
    "plt.show()"
   ],
   "metadata": {
    "collapsed": false,
    "pycharm": {
     "name": "#%%\n"
    }
   }
  },
  {
   "cell_type": "code",
   "execution_count": null,
   "outputs": [],
   "source": [
    "plt.imshow(img_affine, cmap='gray')\n",
    "plt.show()"
   ],
   "metadata": {
    "collapsed": false,
    "pycharm": {
     "name": "#%%\n"
    }
   }
  },
  {
   "cell_type": "markdown",
   "metadata": {
    "pycharm": {
     "name": "#%% md\n"
    }
   },
   "source": [
    "# Exercise 2 - Implement a Histogram Mapping - 1 Points"
   ]
  },
  {
   "cell_type": "code",
   "execution_count": null,
   "metadata": {
    "pycharm": {
     "name": "#%%\n"
    }
   },
   "outputs": [],
   "source": [
    "def norm_cdf(arr):\n",
    "    return arr / arr[-1]"
   ]
  },
  {
   "cell_type": "code",
   "execution_count": null,
   "metadata": {
    "pycharm": {
     "name": "#%%\n"
    }
   },
   "outputs": [],
   "source": [
    "def gamma_mapping(gamma):\n",
    "    \"\"\"\n",
    "    Returns a 1-dimensional numpy array. The value of the array at the n-position \n",
    "    is `(n/len(array))**gamma`.\n",
    "    \"\"\"\n",
    "    return norm_cdf(np.linspace(0, 1, 255)**gamma)\n",
    "\n",
    "\n",
    "def sigmoid_mapping(gain = 10, cutoff = 0.5):\n",
    "    \"\"\"\n",
    "    Returns a 1-dimensional numpy array. The value of the array at the n-position \n",
    "    is  `1/(1 + exp*(gain*(cutoff - (n/len(array)))))`.\n",
    "    \"\"\"\n",
    "    # your code here\n",
    "    return np.zeros(255)"
   ]
  },
  {
   "cell_type": "code",
   "execution_count": null,
   "metadata": {
    "pycharm": {
     "name": "#%%\n"
    }
   },
   "outputs": [],
   "source": [
    "plt.plot(gamma_mapping(1.2))\n",
    "plt.show()"
   ]
  },
  {
   "cell_type": "markdown",
   "metadata": {
    "pycharm": {
     "name": "#%% md\n"
    }
   },
   "source": [
    "# Exercise 3 - Histogram Transformation - 2 Points"
   ]
  },
  {
   "cell_type": "code",
   "execution_count": null,
   "outputs": [],
   "source": [
    "img = astronaut() / 255.\n",
    "img_hsv = rgb2hsv(img)\n",
    "img_gray = rgb2gray(img)"
   ],
   "metadata": {
    "collapsed": false,
    "pycharm": {
     "name": "#%%\n"
    }
   }
  },
  {
   "cell_type": "code",
   "execution_count": null,
   "metadata": {
    "pycharm": {
     "name": "#%%\n"
    }
   },
   "outputs": [],
   "source": [
    "def apply_pixel_mapping(image, mapping):\n",
    "    \"\"\"Returns the image transformed according to the mapping array. \n",
    "       `mapping` is a one dimensional numpy array. `image` can be 2 or 3-dimensional.\n",
    "       The values of the image are in range 0 to 1. \n",
    "       If the mapping has for example 255 items, then all pixel with a value from 0 to 1/255 are assigned to \n",
    "       the value mapping[0]. If the pixel is between n / 255 and (n+1) / 255 then the value in the output image should \n",
    "       be mapping[n]\n",
    "    \"\"\"\n",
    "    # your code\n",
    "    return np.zeros_like(image)"
   ]
  },
  {
   "cell_type": "code",
   "execution_count": null,
   "metadata": {
    "pycharm": {
     "name": "#%%\n"
    }
   },
   "outputs": [],
   "source": [
    "# you can test your `apply_pixel_mapping` function\n",
    "# The first image should look lighter. The second and third should be the same image.\n",
    "img_gamma05 = apply_pixel_mapping(img, gamma_mapping(0.5))\n",
    "plt.subplot(131)\n",
    "plt.imshow(img_gamma05, cmap='gray')\n",
    "plt.subplot(132)\n",
    "plt.imshow(apply_pixel_mapping(img_gamma05, gamma_mapping(2)), cmap='gray')\n",
    "plt.subplot(133)\n",
    "plt.imshow(img, cmap='gray')\n",
    "plt.show()"
   ]
  },
  {
   "cell_type": "markdown",
   "metadata": {
    "pycharm": {
     "name": "#%% md\n"
    }
   },
   "source": [
    "# Exercise 4 - Implement Histogram Equalisation - 2 Points\n",
    "\n",
    "Equalize the image given image so that the histogram is mostly uniform distributed.\n",
    "You can use `np.histogram` and `np.cumsum`. Checkout the documentation of `np.histogram`, it might have useful optional arguments."
   ]
  },
  {
   "cell_type": "code",
   "execution_count": null,
   "metadata": {
    "pycharm": {
     "name": "#%%\n"
    }
   },
   "outputs": [],
   "source": [
    "# bypass certficate check here since there are sometimes problems with urllib\n",
    "ssl._create_default_https_context = ssl._create_unverified_context\n",
    "f = urlopen(\"https://autonomos.inf.fu-berlin.de/wp-content/gallery/press-conference-2011/IMG_0471.jpg\")\n",
    "car = rgb2gray(plt.imread(f, format='jpeg'))\n",
    "plt.imshow(car, cmap='gray')\n",
    "plt.show()"
   ]
  },
  {
   "cell_type": "code",
   "execution_count": null,
   "metadata": {
    "pycharm": {
     "name": "#%%\n"
    }
   },
   "outputs": [],
   "source": [
    "hist = np.zeros(255) # get the histogram of the image\n",
    "equalisation_mapping = np.zeros(255)  # calculate the right mapping"
   ]
  },
  {
   "cell_type": "code",
   "execution_count": null,
   "metadata": {
    "pycharm": {
     "name": "#%%\n"
    }
   },
   "outputs": [],
   "source": [
    "img_equalised = apply_pixel_mapping(car, equalisation_mapping)"
   ]
  },
  {
   "cell_type": "code",
   "execution_count": null,
   "metadata": {
    "pycharm": {
     "name": "#%%\n"
    }
   },
   "outputs": [],
   "source": [
    "hist_of_equalised = np.zeros(255) # get the histogram of the equalised image"
   ]
  },
  {
   "cell_type": "code",
   "execution_count": null,
   "metadata": {
    "pycharm": {
     "name": "#%%\n"
    }
   },
   "outputs": [],
   "source": [
    "plt.subplot(131)\n",
    "plt.plot(hist.cumsum())\n",
    "plt.subplot(132)\n",
    "plt.plot(equalisation_mapping)\n",
    "plt.subplot(133)\n",
    "plt.plot(hist_of_equalised.cumsum())\n",
    "plt.show()"
   ]
  },
  {
   "cell_type": "code",
   "execution_count": null,
   "metadata": {
    "pycharm": {
     "name": "#%%\n"
    }
   },
   "outputs": [],
   "source": [
    "plt.subplot(121)\n",
    "plt.imshow(img_equalised, cmap='gray')\n",
    "plt.subplot(122)\n",
    "plt.imshow(car, cmap='gray')\n",
    "plt.show()"
   ]
  },
  {
   "cell_type": "markdown",
   "metadata": {
    "pycharm": {
     "name": "#%% md\n"
    }
   },
   "source": [
    "# Exercise 5 - Implement a hipster filter - 2 Points\n",
    "\n",
    "1. Convert the image to HSV \n",
    "1. Transform the V-Channel with `sigmoid_mapping` and gain = 10.\n",
    "1. Transform the S-Channel with `sigmoid_mapping` and gain = 10, cufoff=0.35\n",
    "1. Convert it back to RGB and add the color hsv(0.05, 1, 1) weighted by $0.5\\cdot(1 - V)$ to the image, where V is the resulting V-Channel from step 2.\n",
    "\n",
    "You can test the code with your own image or the `astronaut()` test image.\n",
    "If you choose a custom image, you can include it using the `urllib` library like the car image.\n",
    "You can use the `rgb2hsv` and `hsv2rgb` functions from the skimage library."
   ]
  },
  {
   "cell_type": "code",
   "execution_count": null,
   "metadata": {
    "pycharm": {
     "name": "#%%\n"
    }
   },
   "outputs": [],
   "source": [
    "img2 = np.zeros_like(img)\n",
    "plt.imshow(hsv2rgb(img2))     # show the result from step 2\n",
    "plt.show()"
   ]
  },
  {
   "cell_type": "code",
   "execution_count": null,
   "metadata": {
    "pycharm": {
     "name": "#%%\n"
    }
   },
   "outputs": [],
   "source": [
    "img3 = np.zeros_like(img2)\n",
    "plt.imshow(hsv2rgb(img3))     # show the result from step 3\n",
    "plt.show()"
   ]
  },
  {
   "cell_type": "code",
   "execution_count": null,
   "metadata": {
    "pycharm": {
     "name": "#%%\n"
    }
   },
   "outputs": [],
   "source": [
    "img4 = np.zeros_like(img3)\n",
    "plt.imshow(hsv2rgb(img4))      # show the result from step 4\n",
    "plt.show()"
   ]
  },
  {
   "cell_type": "code",
   "execution_count": null,
   "metadata": {
    "pycharm": {
     "name": "#%%\n"
    }
   },
   "outputs": [],
   "source": [
    "# plot the original image\n",
    "plt.imshow(img)"
   ]
  },
  {
   "cell_type": "markdown",
   "metadata": {
    "pycharm": {
     "name": "#%% md\n"
    }
   },
   "source": [
    "# Exercise 6 - Implement your own hipster filter - 3 Points\n",
    "\n",
    "You have mostly complete artistic freedom in this exercise. \n",
    "The filter should not be trivial. Converting the image only to grayscale is not enough ;) \n",
    "You should show off your knowledge of histogram transformations. (Use at least 2 histogram transformations)"
   ]
  },
  {
   "cell_type": "code",
   "execution_count": null,
   "metadata": {
    "pycharm": {
     "name": "#%%\n"
    }
   },
   "outputs": [],
   "source": [
    "# your code"
   ]
  }
 ],
 "metadata": {
  "kernelspec": {
   "display_name": "Python 3",
   "language": "python",
   "name": "python3"
  },
  "language_info": {
   "codemirror_mode": {
    "name": "ipython",
    "version": 3
   },
   "file_extension": ".py",
   "mimetype": "text/x-python",
   "name": "python",
   "nbconvert_exporter": "python",
   "pygments_lexer": "ipython3",
   "version": "3.6.4"
  }
 },
 "nbformat": 4,
 "nbformat_minor": 1
}