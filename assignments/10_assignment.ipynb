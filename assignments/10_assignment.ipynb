{
 "cells": [
  {
   "cell_type": "markdown",
   "metadata": {
    "pycharm": {
     "name": "#%% md\n"
    }
   },
   "source": [
    "# Image Processing SoSe 22 - Assignment - 10\n",
    "\n",
    "### Deadline is 07.07.2022 at 11:55 am\n",
    "\n",
    "Please solve the assignments together with a partner.\n",
    "I will run every notebook. Make sure the code runs through. Select `Kernel` -> `Restart & Run All` to test it."
   ]
  },
  {
   "cell_type": "code",
   "execution_count": null,
   "metadata": {
    "pycharm": {
     "name": "#%%\n"
    }
   },
   "outputs": [],
   "source": [
    "# display the plots inside the notebook\n",
    "%matplotlib inline"
   ]
  },
  {
   "cell_type": "code",
   "execution_count": null,
   "metadata": {
    "pycharm": {
     "name": "#%%\n"
    }
   },
   "outputs": [],
   "source": [
    "import numpy as np\n",
    "import matplotlib.pyplot as plt\n",
    "import pylab\n",
    "import scipy.linalg\n",
    "from skimage.color import rgb2gray\n",
    "from skimage.data import chelsea\n",
    "from scipy.fftpack import dctn, idctn\n",
    "\n",
    "pylab.rcParams['figure.figsize'] = (12, 12)   # This makes the plot bigger"
   ]
  },
  {
   "cell_type": "markdown",
   "metadata": {
    "pycharm": {
     "name": "#%% md\n"
    }
   },
   "source": [
    "# Exercise 1 - Hadamard Matrix - 4 Points\n",
    "\n",
    "Create a [hadamard matrix](https://en.wikipedia.org/wiki/Hadamard_matrix) of order n and apply it to the chessboard."
   ]
  },
  {
   "cell_type": "code",
   "execution_count": null,
   "metadata": {
    "pycharm": {
     "name": "#%%\n"
    }
   },
   "outputs": [],
   "source": [
    "def hadamard_matrix(n):\n",
    "    \"\"\"Returns the Hadamard matrix. N is a power of two.\"\"\"\n",
    "    # your code here\n",
    "    return scipy.linalg.hadamard(n) / np.sqrt(n)\n",
    "\n",
    "plt.subplot(121)\n",
    "plt.imshow(hadamard_matrix(8), cmap='gray')\n",
    "plt.subplot(122)\n",
    "plt.imshow(hadamard_matrix(32), cmap='gray')\n",
    "plt.show()"
   ]
  },
  {
   "cell_type": "code",
   "execution_count": null,
   "metadata": {
    "pycharm": {
     "name": "#%%\n"
    }
   },
   "outputs": [],
   "source": [
    "def get_chess_board(n=8, field_size=8):\n",
    "    board = np.zeros((n*field_size, n*field_size))\n",
    "    s = field_size\n",
    "    for i in range(n):\n",
    "        for j in range(n):\n",
    "            if (i + j) % 2 == 0:\n",
    "                board[i*s:(i+1)*s, j*s:(j+1)*s] = 1\n",
    "    return board"
   ]
  },
  {
   "cell_type": "code",
   "execution_count": null,
   "metadata": {
    "pycharm": {
     "name": "#%%\n"
    }
   },
   "outputs": [],
   "source": [
    "chess_board = get_chess_board()\n",
    "chess_board_roll = np.roll(np.roll(chess_board, 4, axis=0), 4, axis=1)\n",
    "plt.subplot(121)\n",
    "plt.imshow(chess_board, cmap='gray', interpolation='nearest')\n",
    "plt.subplot(122)\n",
    "plt.imshow(chess_board_roll, cmap='gray', interpolation='nearest')\n",
    "plt.show()"
   ]
  },
  {
   "cell_type": "code",
   "execution_count": null,
   "metadata": {
    "pycharm": {
     "name": "#%%\n"
    }
   },
   "outputs": [],
   "source": [
    "# Plot the 2d hadamard transformation of the chess boards.\n",
    "# The 2D Hadamard Transformation can be computed similar to the 2D DFT:\n",
    "# H * I * H, where I is the image, H is the hadamard-matrix and * is the matrix multiplication.\n",
    "\n",
    "H = hadamard_matrix(64)\n",
    "\n",
    "chess_board_H = chess_board                     # your code here\n",
    "chess_board_roll_H = chess_board_roll\n",
    "\n",
    "plt.subplot(221)\n",
    "plt.imshow(chess_board_H, cmap='gray', interpolation='nearest')\n",
    "plt.subplot(222)\n",
    "plt.imshow(chess_board_roll_H, cmap='gray', interpolation='nearest')\n",
    "plt.show()"
   ]
  },
  {
   "cell_type": "markdown",
   "metadata": {
    "pycharm": {
     "name": "#%% md\n"
    }
   },
   "source": [
    "# Exercise 2 - Compare DCT with Discrete Hadamard transform and Haar transform - 6 Points"
   ]
  },
  {
   "cell_type": "markdown",
   "metadata": {
    "pycharm": {
     "name": "#%% md\n"
    }
   },
   "source": [
    "Transform the cat image with DCT, WHT (Walsh Hadamard Transformation) and Haar transform.\n",
    "Erase **75 percent** of coefficients. For DCT you can set the last 75% of the ZigZag Ordering to 0. For Hadamard transform you have to bring the matrices into [sequence ordering](http://fourier.eng.hmc.edu/e161/lectures/wht/node3.html) first and then erase from the ZigZag Ordering. For Haar transform simply keep the 25% highest coefficients and erase the rest.\n",
    "\n",
    "Transform back into image space and calculate the average quadratic pixel error w.r.t. the original image.\n",
    "\n",
    "Plot window size vs DCT, Hadamard transform and Haar transform. Show the MSE error for WindowSizes 8x8, 32x32, 64x64, 128x128 and 256x256\n",
    "for DCT and DWalHadT, DWalHT respectively."
   ]
  },
  {
   "cell_type": "code",
   "execution_count": null,
   "metadata": {
    "pycharm": {
     "name": "#%%\n"
    }
   },
   "outputs": [],
   "source": [
    "class Blocks:\n",
    "    \"\"\"Transforms an image to blocks. A (512, 512) image will become an (64, 64, 8, 8) numpy array\"\"\"\n",
    "    def __init__(self, block_size=8):\n",
    "        self.block_size = block_size\n",
    "\n",
    "    def __call__(self, img):\n",
    "        b = self.block_size\n",
    "        height, width = img.shape\n",
    "\n",
    "        assert img.shape[0] % b == 0\n",
    "        assert img.shape[1] % b == 0\n",
    "        blocks = np.zeros((height // b, width // b, b, b), dtype=img.dtype)\n",
    "        for i in range(0, height // b):\n",
    "            for j in range(0, width // b):\n",
    "                blocks[i, j] = img[i*b:(i+1)*b, j*b:(j+1)*b]\n",
    "        return blocks\n",
    "    def invert(self, blocks):\n",
    "        bh, bw = blocks.shape[:2]\n",
    "        b = self.block_size\n",
    "        heigth, width = (bh*self.block_size, bw*self.block_size)\n",
    "\n",
    "        img = np.zeros((heigth, width), dtype=blocks.dtype)\n",
    "        for i in range(0, bh):\n",
    "            for j in range(0, bw):\n",
    "                img[i*b:(i+1)*b, j*b:(j+1)*b] = blocks[i, j]\n",
    "        return img"
   ]
  },
  {
   "cell_type": "code",
   "execution_count": null,
   "metadata": {
    "pycharm": {
     "name": "#%%\n"
    }
   },
   "outputs": [],
   "source": [
    "class DCTofBlocks:\n",
    "    def __call__(self, blocks):\n",
    "        \"\"\"Returns the DCT of the blocks. The position (i, j) is a 2-dim numpy array with the dct coefficients.\"\"\"\n",
    "        result = np.zeros_like(blocks)\n",
    "        for row in range(0, blocks.shape[0]):\n",
    "            for column in range(0, blocks.shape[1]):\n",
    "                result[row][column] = dctn(blocks[row][column], norm='ortho')\n",
    "        return result\n",
    "\n",
    "    def invert(self, blocks):\n",
    "        \"\"\"Computes the inverse DCT.\"\"\"\n",
    "        result = np.zeros_like(blocks)\n",
    "        for row in range(0, blocks.shape[0]):\n",
    "            for column in range(0, blocks.shape[1]):\n",
    "                result[row][column] = idctn(blocks[row][column], norm='ortho')\n",
    "\n",
    "        return result"
   ]
  },
  {
   "cell_type": "code",
   "execution_count": null,
   "metadata": {
    "pycharm": {
     "name": "#%%\n"
    }
   },
   "outputs": [],
   "source": [
    "class HadamardofBlocksSequenceOrdering:\n",
    "    def __call__(self, blocks):\n",
    "        \"\"\"Returns the Hardamard transform of the blocks. The position (i, j) is a 2-dim numpy array with the hadamard transform coefficients.\"\"\"\n",
    "        # you can use any function from np.fft or scipy.fftpack\n",
    "        h = hadamard_matrix(blocks.shape[3])\n",
    "        # reorder h into sequence ordering\n",
    "        # apply h to block\n",
    "        # your code here\n",
    "\n",
    "        return blocks\n",
    "\n",
    "    def invert(self, blocks):\n",
    "        \"\"\"Computes the inverse hadamard transform.\"\"\"\n",
    "        # you can use any function from np.fft or scipy.fftpack\n",
    "        h = hadamard_matrix(blocks.shape[3])\n",
    "        # reorder h into sequence ordering\n",
    "        # apply h to block\n",
    "        # your code here\n",
    "\n",
    "        return blocks"
   ]
  },
  {
   "cell_type": "code",
   "execution_count": null,
   "outputs": [],
   "source": [
    "class HaarTransformofBlocks:\n",
    "    def __call__(self, blocks):\n",
    "        \"\"\"Returns the haar transform of the blocks. The position (i, j) is a 2-dim numpy array with the haar transform coefficients.\"\"\"\n",
    "        # you can use any function from np.fft or scipy.fftpack\n",
    "        # your code here\n",
    "\n",
    "        return blocks\n",
    "\n",
    "    def invert(self, blocks):\n",
    "        \"\"\"Computes the inverse haar transform.\"\"\"\n",
    "        # you can use any function from np.fft or scipy.fftpack\n",
    "        # your code here\n",
    "\n",
    "        return blocks"
   ],
   "metadata": {
    "collapsed": false,
    "pycharm": {
     "name": "#%%\n"
    }
   }
  },
  {
   "cell_type": "code",
   "execution_count": null,
   "metadata": {
    "pycharm": {
     "name": "#%%\n"
    }
   },
   "outputs": [],
   "source": [
    "class ZigZag:\n",
    "    def __init__(self, n):\n",
    "        self.n = n\n",
    "        \"\"\"Adapted from here: https://rosettacode.org/wiki/Zig-zag_matrix#Python\"\"\"\n",
    "        def key(pair):\n",
    "            x, y = pair\n",
    "            return x+y, -y if (x+y) % 2 else y\n",
    "\n",
    "        indexorder = sorted(((x,y) for x in range(n) for y in range(n)), key=key)\n",
    "        self.xs = np.zeros((self.n**2,), dtype=int)\n",
    "        self.ys = np.zeros((self.n**2,), dtype=int)\n",
    "        self.back = np.zeros((n, n), dtype=int)\n",
    "        for i, (x, y) in enumerate(indexorder):\n",
    "            self.xs[i] = x\n",
    "            self.ys[i] = y\n",
    "            self.back[x, y] = i\n",
    "\n",
    "    def __call__(self, blocks):\n",
    "        bh, bw, h, w = blocks.shape\n",
    "        zigzack_blocks = np.zeros((bh, bw, h*w), dtype=blocks.dtype)\n",
    "        for i, block_row in enumerate(blocks):\n",
    "            for j, block in enumerate(block_row):\n",
    "                zigzack_blocks[i, j] = block[self.xs, self.ys]\n",
    "        return zigzack_blocks\n",
    "\n",
    "    def invert(self, zigzack_blocks):\n",
    "        bh, bw, hw = zigzack_blocks.shape\n",
    "        h = int(np.sqrt(hw))\n",
    "        blocks = np.zeros((bh, bw, h, h), dtype=zigzack_blocks.dtype)\n",
    "        for i, zigzack_row in enumerate(zigzack_blocks):\n",
    "            for j, zigzack in enumerate(zigzack_row):\n",
    "                blocks[i, j] = zigzack[self.back]\n",
    "        return blocks"
   ]
  },
  {
   "cell_type": "code",
   "execution_count": null,
   "outputs": [],
   "source": [
    "class PickNZigZag:\n",
    "    def __init__(self, n=1):\n",
    "        self.n = n\n",
    "\n",
    "    def __call__(self, blocks):\n",
    "        \"\"\"Pick the nth-first frequencies from zigzag ordering\"\"\"\n",
    "        result = ZigZag(blocks.shape[3])(blocks.copy())\n",
    "        for row in range(0, blocks.shape[0]):\n",
    "            for column in range(0, blocks.shape[1]):\n",
    "                zig = result[row, column]\n",
    "                zig[self.n:] = 0\n",
    "                result[row, column] = zig\n",
    "        return ZigZag(blocks.shape[3]).invert(result)\n",
    "\n",
    "    def invert(self, blocks):\n",
    "        \"\"\"There is no way to invert this operation. Just return the inputs.\"\"\"\n",
    "        return blocks"
   ],
   "metadata": {
    "collapsed": false,
    "pycharm": {
     "name": "#%%\n"
    }
   }
  },
  {
   "cell_type": "code",
   "execution_count": null,
   "outputs": [],
   "source": [
    "class PickNthHighest:\n",
    "    def __init__(self, n=1):\n",
    "        self.n = n\n",
    "\n",
    "    def __call__(self, blocks):\n",
    "        \"\"\"Pick the nth-highest frequencies\"\"\"\n",
    "        for row in range(0, blocks.shape[0]):\n",
    "            for column in range(0, blocks.shape[1]):\n",
    "                block = blocks[row, column].flatten()\n",
    "                block[np.argpartition(block, len(block) - self.n)[:-self.n]] = 0\n",
    "                blocks[row, column] = block.reshape(blocks.shape[2], blocks.shape[3])\n",
    "        return blocks\n",
    "\n",
    "    def invert(self, blocks):\n",
    "        \"\"\"There is no way to invert this operation. Just return the inputs.\"\"\"\n",
    "        return blocks"
   ],
   "metadata": {
    "collapsed": false,
    "pycharm": {
     "name": "#%%\n"
    }
   }
  },
  {
   "cell_type": "code",
   "execution_count": null,
   "metadata": {
    "pycharm": {
     "name": "#%%\n"
    }
   },
   "outputs": [],
   "source": [
    "img = rgb2gray(chelsea())\n",
    "sizes = [8, 32, 64, 128, 256]\n",
    "mse_dct_arr = []\n",
    "mse_hadamard_arr = []\n",
    "mse_haar_arr = []\n",
    "for size in sizes:\n",
    "    # pad image for blocking\n",
    "    pad_x = 0 if img.shape[0] % size == 0 else (img.shape[0] // size + 1) * size - img.shape[0]\n",
    "    pad_y = 0 if img.shape[1] % size == 0 else (img.shape[1] // size + 1) * size - img.shape[1]\n",
    "    img_pad = np.pad(img, ((0, pad_x), (0, pad_y)))\n",
    "\n",
    "    blocks = Blocks(block_size=size)(img_pad)\n",
    "    dct_blocks = DCTofBlocks()(blocks.copy())\n",
    "    hadamard_blocks = HadamardofBlocksSequenceOrdering()(blocks.copy())\n",
    "    haar_blocks = HaarTransformofBlocks()(blocks.copy())\n",
    "\n",
    "    dct_highest = PickNZigZag(size ** 2 // 4)(dct_blocks)\n",
    "    hadamard_highest = PickNZigZag(size ** 2 // 4)(hadamard_blocks)\n",
    "    haar_highest = PickNthHighest(size ** 2 // 4)(haar_blocks)\n",
    "\n",
    "    dct_img = Blocks(block_size=size).invert(DCTofBlocks().invert(dct_highest))\n",
    "    hadamard_img = Blocks(block_size=size).invert(HadamardofBlocksSequenceOrdering().invert(hadamard_highest))\n",
    "    haar_img = Blocks(block_size=size).invert(HaarTransformofBlocks().invert(haar_highest))\n",
    "\n",
    "    mse_dct = ((img_pad - dct_img)**2.0).mean(axis=None)\n",
    "    mse_hadamard = ((img_pad - hadamard_img)**2.0).mean(axis=None)\n",
    "    mse_haar = ((img_pad - haar_img)**2.0).mean(axis=None)\n",
    "\n",
    "    mse_dct_arr.append(mse_dct)\n",
    "    mse_hadamard_arr.append(mse_hadamard)\n",
    "    mse_haar_arr.append(mse_haar)\n",
    "\n",
    "    plt.subplot(141)\n",
    "    plt.title(\"Original\")\n",
    "    plt.imshow(img_pad, cmap='gray', vmin=0, vmax=1)\n",
    "    plt.subplot(142)\n",
    "    plt.title(\"DCT MSE: \\n\" + str(mse_dct))\n",
    "    plt.imshow(dct_img, cmap='gray', vmin=0, vmax=1)\n",
    "    plt.subplot(143)\n",
    "    plt.title(\"Hadamard transform MSE: \\n \" + str(mse_hadamard))\n",
    "    plt.imshow(hadamard_img, cmap='gray', vmin=0, vmax=1)\n",
    "    plt.subplot(144)\n",
    "    plt.title(\"Haar transform MSE: \\n \" + str(mse_haar))\n",
    "    plt.imshow(haar_img, cmap='gray', vmin=0, vmax=1)\n",
    "    plt.show()\n",
    "\n",
    "plt.plot(sizes, mse_dct_arr, label=\"MSE dct\")\n",
    "plt.plot(sizes, mse_hadamard_arr, label=\"MSE hadamard transform\")\n",
    "plt.plot(sizes, mse_haar_arr, label=\"MSE haar transform\")\n",
    "plt.ylabel(\"MSE intensity\")\n",
    "plt.xlabel(\"Window size\")\n",
    "plt.xticks(sizes)\n",
    "plt.legend(bbox_to_anchor=(1.05, 1), loc='upper left', borderaxespad=0.)\n",
    "plt.show()"
   ]
  }
 ],
 "metadata": {
  "kernelspec": {
   "display_name": "Python 3",
   "language": "python",
   "name": "python3"
  },
  "language_info": {
   "codemirror_mode": {
    "name": "ipython",
    "version": 3
   },
   "file_extension": ".py",
   "mimetype": "text/x-python",
   "name": "python",
   "nbconvert_exporter": "python",
   "pygments_lexer": "ipython3",
   "version": "3.5.2"
  }
 },
 "nbformat": 4,
 "nbformat_minor": 1
}