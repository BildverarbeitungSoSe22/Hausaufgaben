{
 "cells": [
  {
   "cell_type": "markdown",
   "metadata": {
    "collapsed": true,
    "pycharm": {
     "name": "#%% md\n"
    }
   },
   "source": [
    "# Image Processing SoSe 22 - Assignment 06\n",
    "\n",
    "### Deadline is 09.06.2022 at 11:55 am\n",
    "\n",
    "Please solve the assignments together with a partner.\n",
    "I will run every notebook. Make sure the code runs through. Select `Kernel` -> `Restart & Run All` to test it."
   ]
  },
  {
   "cell_type": "code",
   "execution_count": null,
   "metadata": {
    "pycharm": {
     "name": "#%%\n"
    }
   },
   "outputs": [],
   "source": [
    "# display the plots inside the notebook\n",
    "%matplotlib inline"
   ]
  },
  {
   "cell_type": "code",
   "execution_count": null,
   "metadata": {
    "pycharm": {
     "name": "#%%\n"
    }
   },
   "outputs": [],
   "source": [
    "import numpy as np\n",
    "import matplotlib.pyplot as plt\n",
    "import pylab\n",
    "import scipy.io.wavfile\n",
    "from io import BytesIO\n",
    "import urllib.request as urllib2\n",
    "import ssl\n",
    "import IPython.display as adt\n",
    "ssl._create_default_https_context = ssl._create_unverified_context\n",
    "pylab.rcParams['figure.figsize'] = (12, 12)   # This makes the plot bigger"
   ]
  },
  {
   "cell_type": "markdown",
   "metadata": {
    "pycharm": {
     "name": "#%% md\n"
    }
   },
   "source": [
    "# Exercise 1 - Cross Correlation - 2 Points\n",
    "Implement a function myCrossCorrelation, which takes two discrete functions in the form of arrays as an input and outputs the resulting crosscorrelation function. Now apply your correlation function as follows:\n",
    "a) use as input function 1 an array of 10 random numbers (0-255), function 2 shall be [1 2 3], plot the two functions and the result of the crosscorrelation of both.\n",
    "b) use the same function 1 as in a), function b) shall be [2 2 2]. Plot the two functions and the crosscorrelation of both.\n",
    "c) repeat the first two tasks but swap the arguments"
   ]
  },
  {
   "cell_type": "code",
   "execution_count": null,
   "outputs": [],
   "source": [
    "def myCrossCorrelation(func1, func2):\n",
    "    # your code here\n",
    "    return None"
   ],
   "metadata": {
    "collapsed": false,
    "pycharm": {
     "name": "#%%\n"
    }
   }
  },
  {
   "cell_type": "markdown",
   "source": [
    "# Exercise 2 - DFT - 1 Point\n",
    "\n",
    "Provide a DFT matrix which can be used to transform one-dimensional signals of length 7. Calculate all elements (do not use variables) of the matrix."
   ],
   "metadata": {
    "collapsed": false,
    "pycharm": {
     "name": "#%% md\n"
    }
   }
  },
  {
   "cell_type": "markdown",
   "source": [
    "# Exercise 3 - FFT - 2 Points\n",
    "\n",
    "Calculate the FFT of the following signal:\n",
    "\n",
    "`49, 38, 11, 32, 71, 07, 46, 77`\n",
    "\n",
    "Make sure, that the signal is normalized - but normalize only after the last calculation step.\n",
    "\n",
    "Use the diagram below and provide ALL the inputs and outputs for EVERY stage.\n",
    "\n",
    "![FFT](butterfly01.jpg)"
   ],
   "metadata": {
    "collapsed": false,
    "pycharm": {
     "name": "#%% md\n"
    }
   }
  },
  {
   "cell_type": "markdown",
   "metadata": {
    "pycharm": {
     "name": "#%% md\n"
    }
   },
   "source": [
    "# Exercise 4 - Discrete Fourier Transformation - 2 Points\n",
    "Implement the Discrete Fourier Transformation with [Matrix Multiplication](https://en.wikipedia.org/wiki/DFT_matrix)."
   ]
  },
  {
   "cell_type": "code",
   "execution_count": null,
   "metadata": {
    "scrolled": true,
    "pycharm": {
     "name": "#%%\n"
    }
   },
   "outputs": [],
   "source": [
    "def dft_matrix(n):\n",
    "    \"\"\"\n",
    "    Returns the Discrete Fourier Transformation Matrix of order `n`.\n",
    "    \"\"\"\n",
    "    # your code here\n",
    "    return np.zeros((n, n)) \n",
    "\n",
    "plt.subplot(121)\n",
    "plt.imshow(dft_matrix(16))\n",
    "plt.subplot(122)\n",
    "plt.imshow(dft_matrix(32))\n",
    "plt.show()"
   ]
  },
  {
   "cell_type": "markdown",
   "metadata": {
    "pycharm": {
     "name": "#%% md\n"
    }
   },
   "source": [
    "# Exercise 5 - Spectrogram - 3 Points\n",
    "\n",
    "A [spectrogram](https://en.wikipedia.org/wiki/Spectrogram) visualises the intensities of the different frequencies over time. On the x-axis is the time and on the y-axis are the frequencies.\n",
    "Your task is to build the spectrogram of the given audio clip. If you failed to do exercise 2, you can use some library for the fourier transformation."
   ]
  },
  {
   "cell_type": "code",
   "execution_count": null,
   "metadata": {
    "collapsed": true,
    "pycharm": {
     "name": "#%%\n"
    }
   },
   "outputs": [],
   "source": [
    "def load_wav(url):\n",
    "    f = urllib2.urlopen(url)\n",
    "    buffer = BytesIO(f.read())\n",
    "    sample_rate, audio = scipy.io.wavfile.read(buffer)\n",
    "    if len(audio.shape) == 2:\n",
    "        # only select one channel\n",
    "        audio = audio[:, 0]\n",
    "    return sample_rate, audio / audio.max()"
   ]
  },
  {
   "cell_type": "code",
   "execution_count": null,
   "metadata": {
    "pycharm": {
     "name": "#%%\n"
    }
   },
   "outputs": [],
   "source": [
    "dolphines_url = \"http://www.pmel.noaa.gov/acoustics/whales/sounds/whalewav/akhumphi1x.wav\"\n",
    "# some dolphin sounds\n",
    "sample_rate, audio = load_wav(dolphines_url)"
   ]
  },
  {
   "cell_type": "code",
   "execution_count": null,
   "metadata": {
    "pycharm": {
     "name": "#%%\n"
    }
   },
   "outputs": [],
   "source": [
    "print(audio.shape)"
   ]
  },
  {
   "cell_type": "code",
   "execution_count": null,
   "metadata": {
    "pycharm": {
     "name": "#%%\n"
    }
   },
   "outputs": [],
   "source": [
    "# listen to the audio\n",
    "adt.Audio(data=audio, rate=sample_rate)"
   ]
  },
  {
   "cell_type": "code",
   "execution_count": null,
   "metadata": {
    "pycharm": {
     "name": "#%%\n"
    }
   },
   "outputs": [],
   "source": [
    "# plot the values.\n",
    "plt.plot(audio)\n",
    "plt.show()"
   ]
  },
  {
   "cell_type": "code",
   "execution_count": null,
   "metadata": {
    "collapsed": true,
    "pycharm": {
     "name": "#%%\n"
    }
   },
   "outputs": [],
   "source": [
    "def spectogram(audio, window_size=500):\n",
    "    \"\"\"\n",
    "    Builds the spectogram of the audio clip. Split the audio clip into buckets of `window_size` and \n",
    "    use the discrete fourier transformation to get the intensity of the frequencies.\n",
    "    The entry at position (i, j) of the matrix is the intensity of the i-th frequencies in the j-th bucket.\n",
    "    \"\"\"\n",
    "    # your code here\n",
    "    return np.zeros((window_size // 2, len(audio) // window_size))"
   ]
  },
  {
   "cell_type": "code",
   "execution_count": null,
   "metadata": {
    "pycharm": {
     "name": "#%%\n"
    }
   },
   "outputs": [],
   "source": [
    "specgram = spectogram(audio, window_size=500)"
   ]
  },
  {
   "cell_type": "code",
   "execution_count": null,
   "metadata": {
    "pycharm": {
     "name": "#%%\n"
    }
   },
   "outputs": [],
   "source": [
    "im = plt.imshow(specgram)\n",
    "plt.colorbar(im, fraction=0.02, pad=0.04)\n",
    "plt.show()"
   ]
  },
  {
   "cell_type": "code",
   "execution_count": null,
   "metadata": {
    "pycharm": {
     "name": "#%%\n"
    }
   },
   "outputs": [],
   "source": [
    "# plot it logarithmically\n",
    "im = plt.imshow(specgram)    # your code here\n",
    "plt.colorbar(im, fraction=0.02, pad=0.04)\n",
    "plt.show()"
   ]
  }
 ],
 "metadata": {
  "kernelspec": {
   "display_name": "Python 3",
   "language": "python",
   "name": "python3"
  },
  "language_info": {
   "codemirror_mode": {
    "name": "ipython",
    "version": 3
   },
   "file_extension": ".py",
   "mimetype": "text/x-python",
   "name": "python",
   "nbconvert_exporter": "python",
   "pygments_lexer": "ipython3",
   "version": "3.6.4"
  }
 },
 "nbformat": 4,
 "nbformat_minor": 1
}
