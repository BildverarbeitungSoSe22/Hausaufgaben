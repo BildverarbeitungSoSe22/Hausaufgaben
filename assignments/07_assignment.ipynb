{
 "cells": [
  {
   "cell_type": "markdown",
   "metadata": {
    "collapsed": true,
    "pycharm": {
     "name": "#%% md\n"
    }
   },
   "source": [
    "# Image Processing SoSe 22 - Assignment - 07\n",
    "\n",
    "### Deadline is 16.06.2022 at 11:55am\n",
    "\n",
    "Please solve the assignments together with a partner.\n",
    "I will run every notebook. Make sure the code runs through. Select `Kernel` -> `Restart & Run All` to test it."
   ]
  },
  {
   "cell_type": "code",
   "execution_count": null,
   "metadata": {
    "pycharm": {
     "name": "#%%\n"
    }
   },
   "outputs": [],
   "source": [
    "# display the plots inside the notebook\n",
    "%matplotlib inline"
   ]
  },
  {
   "cell_type": "code",
   "execution_count": null,
   "metadata": {
    "pycharm": {
     "name": "#%%\n"
    }
   },
   "outputs": [],
   "source": [
    "import numpy as np\n",
    "import matplotlib.pyplot as plt\n",
    "import pylab\n",
    "from skimage.data import chelsea\n",
    "from skimage.color import rgb2gray\n",
    "    \n",
    "from numpy.fft import fft2 as numpy_fft2, ifft2 as numpy_ifft2\n",
    "\n",
    "pylab.rcParams['figure.figsize'] = (12, 12)   # This makes the plot bigger"
   ]
  },
  {
   "cell_type": "code",
   "execution_count": null,
   "metadata": {
    "pycharm": {
     "name": "#%%\n"
    }
   },
   "outputs": [],
   "source": [
    "# Playground to get some intuition for 2d fourier transformation\n",
    "ft = np.zeros((64,64))\n",
    "\n",
    "# set some random coefficents and see what happens\n",
    "ft[0, 1] = 1\n",
    "ft[10, 10] = 1\n",
    "\n",
    "plt.subplot(121)\n",
    "plt.imshow(np.real(numpy_ifft2(ft)), cmap='gray')\n",
    "plt.subplot(122)\n",
    "plt.imshow(np.imag(numpy_ifft2(ft)), cmap='gray')\n",
    "plt.show()"
   ]
  },
  {
   "cell_type": "markdown",
   "metadata": {
    "pycharm": {
     "name": "#%% md\n"
    }
   },
   "source": [
    "# Exercise 1 - 2D DFT - 2 Points\n",
    "Implement the 2D Discrete Fourier Transformation with [Matrix Multiplication](https://en.wikipedia.org/wiki/DFT_matrix). You can use your code from the last assignment to compute the dct matrix."
   ]
  },
  {
   "cell_type": "code",
   "execution_count": null,
   "metadata": {
    "scrolled": true,
    "pycharm": {
     "name": "#%%\n"
    }
   },
   "outputs": [],
   "source": [
    "def dft2d(img):\n",
    "    \"\"\"\n",
    "    Returns the 2d discrete fourier transformation\n",
    "    \"\"\"\n",
    "    # your code here\n",
    "    return numpy_fft2(img)\n",
    "\n",
    "def inv_dft2d(img):\n",
    "    \"\"\"\n",
    "    Returns the 2d inverse discrete fourier transformation\n",
    "    \"\"\"\n",
    "    # your code here\n",
    "    return numpy_ifft2(img)\n",
    "\n",
    "\n",
    "def chess_board(n=8, field_size=32):\n",
    "    board = np.zeros((n*field_size, n*field_size))\n",
    "    s = field_size\n",
    "    for i in range(n):\n",
    "        for j in range(n):\n",
    "            if (i + j) % 2 == 0:\n",
    "                board[i*s:(i+1)*s, j*s:(j+1)*s] = 1\n",
    "    return board\n",
    "\n",
    "plt.subplot(321)\n",
    "plt.imshow(np.real(chess_board()), cmap='gray')\n",
    "plt.subplot(322)\n",
    "plt.imshow(np.imag(chess_board()), cmap='gray')\n",
    "plt.subplot(323)\n",
    "plt.imshow(np.real(dft2d(chess_board())), cmap='gray')\n",
    "plt.subplot(324)\n",
    "plt.imshow(np.imag(dft2d(chess_board())), cmap='gray')\n",
    "plt.subplot(325)\n",
    "plt.imshow(np.real(inv_dft2d(dft2d(chess_board()))), cmap='gray')\n",
    "plt.subplot(326)\n",
    "plt.imshow(np.imag(inv_dft2d(dft2d(chess_board()))), cmap='gray')\n",
    "plt.show()"
   ]
  },
  {
   "cell_type": "markdown",
   "metadata": {
    "pycharm": {
     "name": "#%% md\n"
    }
   },
   "source": [
    "# Exercise 2 - High and Low Pass filter with the 2D fourier transformation - 3 Points"
   ]
  },
  {
   "cell_type": "code",
   "execution_count": null,
   "metadata": {
    "pycharm": {
     "name": "#%%\n"
    }
   },
   "outputs": [],
   "source": [
    "def high_pass(img_ft, n):\n",
    "    \"\"\"Removes the low frequencies\"\"\"\n",
    "    ft = img_ft.copy()\n",
    "    ft[:n, :n] = 0\n",
    "    ft[-n:, :n] = 0\n",
    "    ft[-n:, -n:] = 0\n",
    "    ft[:n, -n:] = 0\n",
    "    return ft\n",
    "\n",
    "def low_pass(img_ft, n):\n",
    "    \"\"\"Removes the high frequencies\"\"\"\n",
    "    ft = img_ft.copy()\n",
    "    # your code here\n",
    "    return ft\n",
    "    \n",
    "def band_pass(img_ft, low, high):\n",
    "    \"\"\"Only preserve the frequencies between low and high\"\"\"\n",
    "    # your code here\n",
    "    ft = img_ft.copy()\n",
    "    return ft\n",
    "    \n",
    "def inv_dft_and_plot(img_ft):\n",
    "    plt.imshow(np.real(inv_dft2d(img_ft)), cmap='gray')\n",
    "    plt.show()"
   ]
  },
  {
   "cell_type": "code",
   "execution_count": null,
   "metadata": {
    "pycharm": {
     "name": "#%%\n"
    }
   },
   "outputs": [],
   "source": [
    "chess_board_ft = dft2d(chess_board())\n",
    "\n",
    "# display frequency domain of the chess_board\n",
    "plt.subplot(121)\n",
    "plt.imshow(np.real(chess_board_ft), cmap='gray')\n",
    "plt.subplot(122)\n",
    "plt.imshow(np.imag(chess_board_ft), cmap='gray')\n",
    "plt.show()"
   ]
  },
  {
   "cell_type": "code",
   "execution_count": null,
   "metadata": {
    "pycharm": {
     "name": "#%%\n"
    }
   },
   "outputs": [],
   "source": [
    "# remove the low frequencies of the chess board\n",
    "chess_high_feq = high_pass(chess_board_ft, 12)\n",
    "inv_dft_and_plot(chess_high_feq)"
   ]
  },
  {
   "cell_type": "code",
   "execution_count": null,
   "metadata": {
    "scrolled": true,
    "pycharm": {
     "name": "#%%\n"
    }
   },
   "outputs": [],
   "source": [
    "# remove the high frequencies of the chess board\n",
    "chess_low_feq = low_pass(chess_board_ft, 10)\n",
    "inv_dft_and_plot(chess_low_feq)"
   ]
  },
  {
   "cell_type": "code",
   "execution_count": null,
   "metadata": {
    "scrolled": true,
    "pycharm": {
     "name": "#%%\n"
    }
   },
   "outputs": [],
   "source": [
    "# remove the high frequencies of the chess board\n",
    "chess_medium_feq = band_pass(chess_board_ft, 5, 15)\n",
    "inv_dft_and_plot(chess_medium_feq)"
   ]
  },
  {
   "cell_type": "code",
   "execution_count": null,
   "metadata": {
    "pycharm": {
     "name": "#%%\n"
    }
   },
   "outputs": [],
   "source": [
    "img = rgb2gray(chelsea() / 255)\n",
    "# filter all frequencies corresponding to the coefficients between 48 and 128.\n",
    "# your code here\n",
    "\n",
    "inv_dft_and_plot(img)"
   ]
  },
  {
   "cell_type": "markdown",
   "metadata": {
    "pycharm": {
     "name": "#%% md\n"
    }
   },
   "source": [
    "# Exercise 3 - FFT - 5 Points\n",
    "\n",
    "Implement the fast fourier transformation. \n",
    "Use the [Cooley-Tukey](https://en.wikipedia.org/wiki/Cooley%E2%80%93Tukey_FFT_algorithm) algorithm."
   ]
  },
  {
   "cell_type": "code",
   "execution_count": null,
   "metadata": {
    "pycharm": {
     "name": "#%%\n"
    }
   },
   "outputs": [],
   "source": [
    "def fft(x):\n",
    "    \"\"\"\n",
    "    Computes the fast fourier transformation of x.\n",
    "    \"\"\"\n",
    "    # your code here\n",
    "    return numpy_fft2(x)\n"
   ]
  },
  {
   "cell_type": "code",
   "execution_count": null,
   "metadata": {
    "pycharm": {
     "name": "#%%\n"
    }
   },
   "outputs": [],
   "source": [
    "img = rgb2gray(chelsea() / 255)\n",
    "fft_img = fft(img)"
   ]
  },
  {
   "cell_type": "code",
   "execution_count": null,
   "metadata": {
    "pycharm": {
     "name": "#%%\n"
    }
   },
   "outputs": [],
   "source": [
    "plt.subplot(121)\n",
    "plt.imshow(np.real(fft_img), cmap=\"gray\")\n",
    "plt.subplot(122)\n",
    "plt.imshow(np.imag(fft_img), cmap=\"gray\")\n",
    "plt.show()"
   ]
  },
  {
   "cell_type": "code",
   "execution_count": null,
   "outputs": [],
   "source": [
    "plt.subplot(121)\n",
    "plt.imshow(np.real(inv_dft2d(fft_img)),cmap=\"gray\")\n",
    "plt.subplot(122)\n",
    "plt.imshow(np.imag(inv_dft2d(fft_img)),cmap=\"gray\")\n",
    "plt.show()"
   ],
   "metadata": {
    "collapsed": false,
    "pycharm": {
     "name": "#%%\n"
    }
   }
  }
 ],
 "metadata": {
  "kernelspec": {
   "display_name": "Python 3",
   "language": "python",
   "name": "python3"
  },
  "language_info": {
   "codemirror_mode": {
    "name": "ipython",
    "version": 3
   },
   "file_extension": ".py",
   "mimetype": "text/x-python",
   "name": "python",
   "nbconvert_exporter": "python",
   "pygments_lexer": "ipython3",
   "version": "3.6.4"
  }
 },
 "nbformat": 4,
 "nbformat_minor": 1
}